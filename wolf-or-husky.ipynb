{
 "cells": [
  {
   "cell_type": "code",
   "execution_count": null,
   "id": "56ca075c-70b7-449c-8dc7-033356dde391",
   "metadata": {},
   "outputs": [],
   "source": [
    "#    This code is only here to check that your internet is enabled. It doesn't do anything else.\n",
    "\n",
    "import socket,warnings\n",
    "try:\n",
    "    socket.setdefaulttimeout(1)\n",
    "    socket.socket(socket.AF_INET, socket.SOCK_STREAM).connect(('1.1.1.1', 53))\n",
    "except socket.error as ex: raise Exception(\"STOP: No internet. Click '>|' in top right and set 'Internet' switch to on\")"
   ]
  },
  {
   "cell_type": "code",
   "execution_count": null,
   "id": "83794706-4ae3-4a09-85c3-d9692103fa43",
   "metadata": {},
   "outputs": [],
   "source": [
    "from duckduckgo_search import DDGS\n",
    "from fastcore.all import *\n",
    "\n",
    "def search_images(keywords, max_images=200): return L(DDGS().images(keywords, max_results=max_images)).itemgot('image')\n",
    "import time, json"
   ]
  },
  {
   "cell_type": "code",
   "execution_count": null,
   "id": "68b13557-6c28-4da6-8644-540ea292f02c",
   "metadata": {},
   "outputs": [],
   "source": [
    "from fastai.vision.all import *\n",
    "searches = 'wolf','husky' #put the two things you want to teach the model to recognize\n",
    "path = Path('wolf-or-husky') #change this to match your selected categories\n",
    "\n",
    "#downloading the images\n",
    "for o in searches:\n",
    "    dest = (path/o)\n",
    "    dest.mkdir(exist_ok=True, parents=True)\n",
    "    download_images(dest, urls=search_images(f'{o} photo'))\n",
    "    time.sleep(5)\n",
    "    resize_images(path/o, max_size=400, dest=path/o)"
   ]
  },
  {
   "cell_type": "markdown",
   "id": "a4061f9f-38a6-433d-a7f7-c1bdff689f90",
   "metadata": {},
   "source": [
    "train the model"
   ]
  },
  {
   "cell_type": "code",
   "execution_count": null,
   "id": "1bcca94c-ff62-4e0a-912f-080baaa44f37",
   "metadata": {},
   "outputs": [],
   "source": [
    "#first, delete the failed downloads\n",
    "failed = verify_images(get_image_files(path))\n",
    "failed.map(Path.unlink)\n",
    "len(failed)"
   ]
  },
  {
   "cell_type": "code",
   "execution_count": null,
   "id": "1c0b71c0-5048-4bba-b8f7-9abf73570c4b",
   "metadata": {},
   "outputs": [],
   "source": [
    "dls = DataBlock(\n",
    "    blocks=(ImageBlock, CategoryBlock), \n",
    "    get_items=get_image_files, \n",
    "    splitter=RandomSplitter(valid_pct=0.2, seed=42),\n",
    "    get_y=parent_label,\n",
    "    item_tfms=[Resize(192, method='squish')]\n",
    ").dataloaders(path, bs=32)\n",
    "\n",
    "dls.show_batch(max_n=6)"
   ]
  },
  {
   "cell_type": "code",
   "execution_count": null,
   "id": "3d21d73b-e0be-4ed8-b3bb-11841ac37cd7",
   "metadata": {},
   "outputs": [],
   "source": [
    "learn = vision_learner(dls, resnet18, metrics=error_rate)\n",
    "learn.fine_tune(3)"
   ]
  },
  {
   "cell_type": "code",
   "execution_count": null,
   "id": "f820732a-bddd-461f-83e6-01cbece5441a",
   "metadata": {},
   "outputs": [],
   "source": [
    " using the model below"
   ]
  },
  {
   "cell_type": "code",
   "execution_count": null,
   "id": "d8c87dfd-2aff-4627-96c5-51e4b785e95e",
   "metadata": {},
   "outputs": [],
   "source": [
    "is_husky,_,probs = learn.predict(PILImage.create('image file here'))\n",
    "print(f\"This is a: {is_husky}.\")\n",
    "print(f\"Probability it's a husky: {probs[0]:.4f}\")"
   ]
  }
 ],
 "metadata": {
  "kernelspec": {
   "display_name": "Python 3 (ipykernel)",
   "language": "python",
   "name": "python3"
  },
  "language_info": {
   "codemirror_mode": {
    "name": "ipython",
    "version": 3
   },
   "file_extension": ".py",
   "mimetype": "text/x-python",
   "name": "python",
   "nbconvert_exporter": "python",
   "pygments_lexer": "ipython3",
   "version": "3.12.1"
  }
 },
 "nbformat": 4,
 "nbformat_minor": 5
}
